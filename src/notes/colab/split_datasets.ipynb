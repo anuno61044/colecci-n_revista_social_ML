{
 "cells": [
  {
   "cell_type": "code",
   "execution_count": 1,
   "metadata": {
    "executionInfo": {
     "elapsed": 1959,
     "status": "ok",
     "timestamp": 1738176352169,
     "user": {
      "displayName": "Javier Lima",
      "userId": "01477446666068705474"
     },
     "user_tz": 300
    },
    "id": "OfeNVe8eyFBT"
   },
   "outputs": [],
   "source": [
    "import os\n",
    "import pandas as pd\n",
    "import json\n",
    "from sklearn.model_selection import train_test_split\n",
    "from sqlalchemy import create_engine"
   ]
  },
  {
   "cell_type": "code",
   "execution_count": 2,
   "metadata": {
    "executionInfo": {
     "elapsed": 4,
     "status": "ok",
     "timestamp": 1738176352169,
     "user": {
      "displayName": "Javier Lima",
      "userId": "01477446666068705474"
     },
     "user_tz": 300
    },
    "id": "NMTj0DK_yJUR"
   },
   "outputs": [],
   "source": [
    "BASE_PATH = '/content/drive/MyDrive/social/'\n",
    "\n",
    "images_path = f'{BASE_PATH}images'\n",
    "db_path = f'{BASE_PATH}metadata.db'\n",
    "json_path = f'{BASE_PATH}images.json'"
   ]
  },
  {
   "cell_type": "code",
   "execution_count": 3,
   "metadata": {
    "executionInfo": {
     "elapsed": 934,
     "status": "ok",
     "timestamp": 1738176353100,
     "user": {
      "displayName": "Javier Lima",
      "userId": "01477446666068705474"
     },
     "user_tz": 300
    },
    "id": "455_SEIsyJzp"
   },
   "outputs": [],
   "source": [
    "engine = create_engine(f'sqlite:///{db_path}')\n",
    "metadata_df = pd.read_sql('ImageData', engine)\n",
    "\n",
    "images_dict : dict[str, str]\n",
    "with open(json_path, 'rb') as file:\n",
    "   images_dict = json.load(file)"
   ]
  },
  {
   "cell_type": "code",
   "execution_count": 4,
   "metadata": {
    "colab": {
     "base_uri": "https://localhost:8080/"
    },
    "executionInfo": {
     "elapsed": 4,
     "status": "ok",
     "timestamp": 1738176353100,
     "user": {
      "displayName": "Javier Lima",
      "userId": "01477446666068705474"
     },
     "user_tz": 300
    },
    "id": "-iLJ5u6mzGDV",
    "outputId": "3f31a9a6-e2f4-4c74-b135-457694737e35"
   },
   "outputs": [
    {
     "name": "stdout",
     "output_type": "stream",
     "text": [
      "200\n",
      "200\n"
     ]
    }
   ],
   "source": [
    "images_ids = list(images_dict.keys())\n",
    "train_images, test_images = train_test_split(images_ids, test_size=0.3)\n",
    "\n",
    "train_images = train_images[:200]\n",
    "test_images = test_images[:200]\n",
    "\n",
    "print(len(train_images))\n",
    "print(len(test_images))"
   ]
  },
  {
   "cell_type": "code",
   "execution_count": 5,
   "metadata": {
    "executionInfo": {
     "elapsed": 2,
     "status": "ok",
     "timestamp": 1738176353100,
     "user": {
      "displayName": "Javier Lima",
      "userId": "01477446666068705474"
     },
     "user_tz": 300
    },
    "id": "MCL3cdRDzlIr"
   },
   "outputs": [],
   "source": [
    "train_dict = {}\n",
    "test_dict = {}\n",
    "\n",
    "for image_id in train_images:\n",
    "  train_dict[image_id] = images_dict[image_id]\n",
    "for images_id in test_images:\n",
    "  test_dict[image_id] = images_dict[image_id]\n"
   ]
  },
  {
   "cell_type": "code",
   "execution_count": 6,
   "metadata": {
    "executionInfo": {
     "elapsed": 632,
     "status": "ok",
     "timestamp": 1738176353730,
     "user": {
      "displayName": "Javier Lima",
      "userId": "01477446666068705474"
     },
     "user_tz": 300
    },
    "id": "HzwJfpbw2ILG"
   },
   "outputs": [],
   "source": [
    "with open(f'{BASE_PATH}train_images.json', 'w') as file:\n",
    "  json.dump(train_dict, file)\n",
    "with open(f'{BASE_PATH}test_images.json', 'w') as file:\n",
    "  json.dump(test_dict, file)"
   ]
  }
 ],
 "metadata": {
  "colab": {
   "authorship_tag": "ABX9TyMTQYToQFa3ZOZMPc0ePmmL",
   "mount_file_id": "1US_7BUnDcMCAE2pLOKWqvHFaLeNMs-aQ",
   "provenance": []
  },
  "kernelspec": {
   "display_name": "Python 3",
   "name": "python3"
  },
  "language_info": {
   "name": "python"
  }
 },
 "nbformat": 4,
 "nbformat_minor": 0
}
