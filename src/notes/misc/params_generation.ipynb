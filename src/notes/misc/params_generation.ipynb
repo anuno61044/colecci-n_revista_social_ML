{
 "cells": [
  {
   "cell_type": "markdown",
   "metadata": {},
   "source": [
    "**Hyperparameters**\n",
    "- Surrounding text neighborhood(positive integer)\n",
    "- Data cleaning: {0, 1}\n",
    "- Data augmentation; {0, 1}\n",
    "- Model to choose: {0, 1, 2, 3, 4, 5} (pure BLIP/CLIP, tuned BLIP/CLIP, combination1, combination2)"
   ]
  },
  {
   "cell_type": "code",
   "execution_count": 3,
   "metadata": {},
   "outputs": [],
   "source": [
    "from common.params import ExhaustiveParams\n",
    "import json\n",
    "\n",
    "params_domains = {\n",
    "    'SOCIAL_CLEANING': [0, 1],\n",
    "    'SOCIAL_MODEL': [0, 1, 2, 3, 4, 5]\n",
    "}\n",
    "\n",
    "params = ExhaustiveParams(params_domains)\n",
    "combinations = params.select_combinations()\n",
    "combinations_json = json.dumps(combinations)\n",
    "\n",
    "with open('../../../external/combinations.json', 'w') as file:\n",
    "    file.write(combinations_json)"
   ]
  }
 ],
 "metadata": {
  "kernelspec": {
   "display_name": ".venv",
   "language": "python",
   "name": "python3"
  },
  "language_info": {
   "codemirror_mode": {
    "name": "ipython",
    "version": 3
   },
   "file_extension": ".py",
   "mimetype": "text/x-python",
   "name": "python",
   "nbconvert_exporter": "python",
   "pygments_lexer": "ipython3",
   "version": "3.10.12"
  }
 },
 "nbformat": 4,
 "nbformat_minor": 2
}
