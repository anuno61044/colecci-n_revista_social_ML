{
 "cells": [
  {
   "cell_type": "markdown",
   "metadata": {},
   "source": [
    "# Partition Dataset"
   ]
  },
  {
   "cell_type": "code",
   "execution_count": 1,
   "metadata": {},
   "outputs": [],
   "source": [
    "from common.partition import get_random_partition\n",
    "import json\n",
    "import os"
   ]
  },
  {
   "cell_type": "markdown",
   "metadata": {},
   "source": [
    "### Parameters\n",
    "\n",
    "- **sample_ratio**: specifies the proportion between the partition samples and the total of images\n",
    "- **images_path**: path where images are located"
   ]
  },
  {
   "cell_type": "code",
   "execution_count": 3,
   "metadata": {},
   "outputs": [],
   "source": [
    "sample_ratio = 0.07 # Size of the random sample taken from the whole image-dataset\n",
    "images_path = '../../../datasets/flickr8/Images'"
   ]
  },
  {
   "cell_type": "code",
   "execution_count": 4,
   "metadata": {},
   "outputs": [],
   "source": [
    "images = os.listdir(images_path)\n",
    "\n",
    "random_partitions = get_random_partition(images, sample_ratio)\n",
    "\n",
    "with open(\"../../../datasets/flickr8/random_samples_7.json\", 'w') as file:\n",
    "    json.dump(random_partitions, file)"
   ]
  },
  {
   "cell_type": "code",
   "execution_count": 6,
   "metadata": {},
   "outputs": [
    {
     "name": "stdout",
     "output_type": "stream",
     "text": [
      "Partition of size 14\n"
     ]
    },
    {
     "data": {
      "text/plain": [
       "[566, 566, 566, 566, 566, 566, 566, 566, 566, 566, 566, 566, 566, 733]"
      ]
     },
     "execution_count": 6,
     "metadata": {},
     "output_type": "execute_result"
    }
   ],
   "source": [
    "print(f'Partition of size {len(random_partitions)}')\n",
    "[len(random_partitions[i]) for i, _ in enumerate(random_partitions)]"
   ]
  }
 ],
 "metadata": {
  "kernelspec": {
   "display_name": ".venv",
   "language": "python",
   "name": "python3"
  },
  "language_info": {
   "codemirror_mode": {
    "name": "ipython",
    "version": 3
   },
   "file_extension": ".py",
   "mimetype": "text/x-python",
   "name": "python",
   "nbconvert_exporter": "python",
   "pygments_lexer": "ipython3",
   "version": "3.10.12"
  }
 },
 "nbformat": 4,
 "nbformat_minor": 2
}
