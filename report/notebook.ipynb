{
 "cells": [
  {
   "cell_type": "code",
   "execution_count": null,
   "metadata": {},
   "outputs": [],
   "source": [
    "import pandas as pd\n",
    "from sqlalchemy import create_engine, text\n",
    "from transformers import CLIPModel, CLIPProcessor\n",
    "from PIL import Image\n",
    "import torch\n",
    "import lorem"
   ]
  },
  {
   "cell_type": "code",
   "execution_count": null,
   "metadata": {},
   "outputs": [],
   "source": [
    "def clone_database():\n",
    "    # Conectar a la base de datos original\n",
    "    engine_original = create_engine('sqlite:///./drive/MyDrive/social/metadata.db')\n",
    "\n",
    "    # Obtener las tablas de la base de datos original, excluyendo la tabla sqlite_sequence\n",
    "    tables = pd.read_sql(\"SELECT name FROM sqlite_master WHERE type='table' AND name != 'sqlite_sequence';\", engine_original)\n",
    "\n",
    "    # Leer los datos de cada tabla en un DataFrame\n",
    "    dataframes = {}\n",
    "    for table in tables['name']:\n",
    "        dataframes[table] = pd.read_sql(f\"SELECT * FROM {table}\", engine_original)\n",
    "\n",
    "    # Ver los primeros datos de una tabla (por ejemplo, la primera tabla)\n",
    "    print(dataframes[tables['name'][0]].head())\n",
    "\n",
    "    # Conectar a la base de datos clonada\n",
    "    engine_copia = create_engine('sqlite:///./drive/MyDrive/social/clean_metadata.db')\n",
    "\n",
    "    # Escribir los DataFrames en la nueva base de datos\n",
    "    for table, df in dataframes.items():\n",
    "        df.to_sql(table, engine_copia, index=False, if_exists='replace')\n",
    "\n",
    "    print(\"Base de datos clonada exitosamente.\")"
   ]
  },
  {
   "cell_type": "code",
   "execution_count": null,
   "metadata": {},
   "outputs": [],
   "source": [
    "# # Conectar a la base de datos SQLite\n",
    "# engine_original = create_engine('sqlite:///drive/MyDrive/social/metadata.db')\n",
    "\n",
    "# # Especificar el nombre de la tabla (asegúrate de conocerlo)\n",
    "# table_name = \"ImageData\"\n",
    "\n",
    "# # Leer las primeras 5 filas de la tabla\n",
    "# df = pd.read_sql(f\"SELECT * FROM {table_name} LIMIT 5;\", con=engine_original)\n",
    "\n",
    "# # Extraer el primer valor\n",
    "# first_image_path = df.iloc[0, 4]  # Primera fila, primera columna\n",
    "\n",
    "# # Mostrar el resultado\n",
    "# print(first_image_path)\n",
    "\n",
    "# # Mostrar los datos\n",
    "# print(df)"
   ]
  },
  {
   "cell_type": "code",
   "execution_count": null,
   "metadata": {},
   "outputs": [],
   "source": []
  }
 ],
 "metadata": {
  "language_info": {
   "name": "python"
  }
 },
 "nbformat": 4,
 "nbformat_minor": 2
}
